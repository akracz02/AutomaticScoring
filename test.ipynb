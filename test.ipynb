{
 "cells": [
  {
   "cell_type": "code",
   "execution_count": 2,
   "metadata": {},
   "outputs": [],
   "source": [
    "import numpy as np\n",
    "import matplotlib.pyplot as plt\n",
    "import cv2\n",
    "from imageProcessing import getRed, getBlue, getContours, getTransformationParameters,\\\n",
    "    reduceImageOfEllipseAndGetNewCenter, reduceImageAndRemoveBackground, getBoundriesAndMask\n",
    "from targetDetection import getEllipsesOfContours, getDetectionMatrixOlympicTarget, getBestEllipseOlympicTarget, OlympicTargetDetection"
   ]
  },
  {
   "cell_type": "code",
   "execution_count": 7,
   "metadata": {},
   "outputs": [
    {
     "name": "stdout",
     "output_type": "stream",
     "text": [
      "[2 6]\n"
     ]
    }
   ],
   "source": [
    "arr = np.array([1,9,4,5,7,9,5,1,5,0])\n",
    "print(np.where(arr == np.max(arr))[0]+1)"
   ]
  },
  {
   "cell_type": "code",
   "execution_count": 2,
   "metadata": {},
   "outputs": [],
   "source": [
    "imageRaw = cv2.imread('exampletarget.png')\n",
    "imageRaw = cv2.cvtColor(imageRaw, cv2.COLOR_BGR2RGB)"
   ]
  },
  {
   "cell_type": "code",
   "execution_count": 3,
   "metadata": {},
   "outputs": [],
   "source": [
    "imageRed = getRed(imageRaw)\n",
    "imageBlue = getBlue(imageRaw)"
   ]
  },
  {
   "cell_type": "code",
   "execution_count": 4,
   "metadata": {},
   "outputs": [],
   "source": [
    "redContours, blueContours = getContours(imageRed, imageBlue)"
   ]
  },
  {
   "cell_type": "code",
   "execution_count": 7,
   "metadata": {},
   "outputs": [],
   "source": [
    "redEllipses, blueEllipses = getEllipsesOfContours(imageRaw, redContours, blueContours)"
   ]
  },
  {
   "cell_type": "code",
   "execution_count": 10,
   "metadata": {},
   "outputs": [],
   "source": [
    "detection, axes = getDetectionMatrixOlympicTarget(redEllipses, blueEllipses)"
   ]
  },
  {
   "cell_type": "code",
   "execution_count": 13,
   "metadata": {},
   "outputs": [],
   "source": [
    "redEll, blueEll = getBestEllipseOlympicTarget(redEllipses, blueEllipses, detection, axes)"
   ]
  },
  {
   "cell_type": "code",
   "execution_count": 23,
   "metadata": {},
   "outputs": [],
   "source": [
    "imcopy = cv2.imread('exampleRedEdges.jpg')\n",
    "imcopy = cv2.cvtColor(imcopy, cv2.COLOR_BGR2RGB)\n",
    "\n",
    "imell = cv2.ellipse(imcopy.copy(), redEll, (0,255,0), 2)"
   ]
  },
  {
   "cell_type": "code",
   "execution_count": 4,
   "metadata": {},
   "outputs": [],
   "source": [
    "ellFinal = OlympicTargetDetection(imageRaw)"
   ]
  },
  {
   "cell_type": "code",
   "execution_count": 4,
   "metadata": {},
   "outputs": [],
   "source": [
    "imcopy = cv2.ellipse(imageRaw.copy(), ellFinal, (0,255,0), 3)"
   ]
  },
  {
   "cell_type": "code",
   "execution_count": 7,
   "metadata": {},
   "outputs": [
    {
     "data": {
      "text/plain": [
       "True"
      ]
     },
     "execution_count": 7,
     "metadata": {},
     "output_type": "execute_result"
    }
   ],
   "source": [
    "imcopy = cv2.cvtColor(imcopy, cv2.COLOR_BGR2RGB)\n",
    "cv2.imwrite('exampleDetected.jpg', imcopy)"
   ]
  },
  {
   "cell_type": "code",
   "execution_count": 5,
   "metadata": {},
   "outputs": [],
   "source": [
    "reduced, newEll = reduceImageOfEllipseAndGetNewCenter(imageRaw, ellFinal)"
   ]
  },
  {
   "cell_type": "code",
   "execution_count": 6,
   "metadata": {},
   "outputs": [],
   "source": [
    "transim, rot, sc, newcent = getTransformationParameters(reduced, newEll)"
   ]
  },
  {
   "cell_type": "code",
   "execution_count": 7,
   "metadata": {},
   "outputs": [],
   "source": [
    "bnds, mask = getBoundriesAndMask(transim, newcent, newEll[1][1])"
   ]
  },
  {
   "cell_type": "code",
   "execution_count": 8,
   "metadata": {},
   "outputs": [],
   "source": [
    "finalImage = reduceImageAndRemoveBackground(transim, bnds, mask)"
   ]
  },
  {
   "cell_type": "code",
   "execution_count": 14,
   "metadata": {},
   "outputs": [
    {
     "data": {
      "text/plain": [
       "True"
      ]
     },
     "execution_count": 14,
     "metadata": {},
     "output_type": "execute_result"
    }
   ],
   "source": [
    "finalImage = cv2.cvtColor(finalImage, cv2.COLOR_BGR2RGB)\n",
    "cv2.imwrite('exampleTrans.jpg', finalImage)"
   ]
  },
  {
   "cell_type": "code",
   "execution_count": 22,
   "metadata": {},
   "outputs": [
    {
     "data": {
      "text/plain": [
       "True"
      ]
     },
     "execution_count": 22,
     "metadata": {},
     "output_type": "execute_result"
    }
   ],
   "source": [
    "im1 = cv2.imread('exampletarget.png')\n",
    "cv2.imwrite('exampletargetV2.jpg', im1[20:220,50:220])\n",
    "\n",
    "im1 = cv2.imread('exampleRed.jpg')\n",
    "cv2.imwrite('exampleRedV2.jpg', im1[20:220,50:220])\n",
    "\n",
    "im1 = cv2.imread('exampleRedEdges.jpg')\n",
    "cv2.imwrite('exampleRedEdgesV2.jpg', im1[20:220,50:220])\n",
    "\n",
    "im1 = cv2.imread('exampleEllipse.jpg')\n",
    "cv2.imwrite('exampleEllipseV2.jpg', im1[20:220,50:220])\n",
    "\n",
    "im1 = cv2.imread('exampleDetected.jpg')\n",
    "cv2.imwrite('exampleDetectedV2.jpg', im1[20:220,50:220])\n",
    "\n",
    "im1 = cv2.imread('exampleTrans.jpg')\n",
    "cv2.imwrite('exampleTransV2.jpg', im1[20:220,50:220])"
   ]
  }
 ],
 "metadata": {
  "kernelspec": {
   "display_name": "Python 3",
   "language": "python",
   "name": "python3"
  },
  "language_info": {
   "codemirror_mode": {
    "name": "ipython",
    "version": 3
   },
   "file_extension": ".py",
   "mimetype": "text/x-python",
   "name": "python",
   "nbconvert_exporter": "python",
   "pygments_lexer": "ipython3",
   "version": "3.12.1"
  }
 },
 "nbformat": 4,
 "nbformat_minor": 2
}
